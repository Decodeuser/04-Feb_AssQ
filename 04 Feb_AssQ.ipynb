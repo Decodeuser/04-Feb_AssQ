{
 "cells": [
  {
   "cell_type": "markdown",
   "id": "606c8a80-b222-49b4-ae76-6540961c5dd9",
   "metadata": {},
   "source": [
    "Q1. Create a python program to sort the given list of tuples based on integer value using a\n",
    "lambda function.\n",
    "[('Sachin Tendulkar', 34357), ('Ricky Ponting', 27483), ('Jack Kallis', 25534), ('Virat Kohli', 24936)]"
   ]
  },
  {
   "cell_type": "code",
   "execution_count": 28,
   "id": "ee1a0129-c60d-4896-a8a1-fb32c8b4b40f",
   "metadata": {},
   "outputs": [
    {
     "name": "stdout",
     "output_type": "stream",
     "text": [
      "\n",
      "Sorting the list of tuples\n",
      "[('Virat Kohli', 24936), ('Jack Kallis', 25534), ('Ricky Ponting', 27483), ('Sachin Tendulkar', 34357)]\n"
     ]
    }
   ],
   "source": [
    "my_list=[('Sachin Tendulkar', 34357), ('Ricky Ponting', 27483), ('Jack Kallis', 25534), ('Virat Kohli', 24936)]\n",
    "my_list.sort(key = lambda x: x[1])\n",
    "print(\"\\nSorting the list of tuples\")\n",
    "print(my_list)"
   ]
  },
  {
   "cell_type": "markdown",
   "id": "ce89b2d8-59fe-4283-81be-83f29a265fc3",
   "metadata": {},
   "source": [
    "Q2. Write a Python Program to find the squares of all the numbers in the given list of integers using\n",
    "lambda and map functions.\n",
    "\n",
    "\n",
    "[1, 2, 3, 4, 5, 6, 7, 8, 9, 10]"
   ]
  },
  {
   "cell_type": "code",
   "execution_count": 1,
   "id": "89db6bde-96af-4c89-96b7-783cbe1ffb48",
   "metadata": {},
   "outputs": [
    {
     "name": "stdout",
     "output_type": "stream",
     "text": [
      "[1, 4, 9, 16, 25, 36, 49, 64, 81, 100]\n"
     ]
    }
   ],
   "source": [
    "nums= [1, 2, 3, 4, 5, 6, 7, 8, 9, 10]\n",
    "square_nums = list(map(lambda x: x ** 2, nums))\n",
    "print(square_nums)"
   ]
  },
  {
   "cell_type": "markdown",
   "id": "219a1272-746f-4cc0-a457-17fa37365f7a",
   "metadata": {},
   "source": [
    "Q3. Write a python program to convert the given list of integers into a tuple of strings. Use map and\n",
    "lambda functions\n",
    "Given String: [1, 2, 3, 4, 5, 6, 7, 8, 9, 10]\n",
    "Expected output: ('1', '2', '3', '4', '5', '6', '7', '8', '9', '10')"
   ]
  },
  {
   "cell_type": "code",
   "execution_count": 17,
   "id": "4d7a4c34-2b1f-4175-848c-571f0b21f505",
   "metadata": {},
   "outputs": [
    {
     "name": "stdout",
     "output_type": "stream",
     "text": [
      "The converted tuple of strings is: ('1', '2', '3', '4', '5', '6', '7', '8', '9', '10')\n"
     ]
    }
   ],
   "source": [
    "numbers = [1, 2, 3, 4, 5, 6, 7, 8, 9, 10]\n",
    "strings = tuple(map(lambda x: str(x), numbers))\n",
    "\n",
    "print(\"The converted tuple of strings is:\", strings)"
   ]
  },
  {
   "cell_type": "markdown",
   "id": "116a74dc-3fee-40db-8aef-c77f25f4b583",
   "metadata": {
    "tags": []
   },
   "source": [
    "Q4. Write a python program using reduce function to compute the product of a list containing numbers\n",
    "from 1 to 25."
   ]
  },
  {
   "cell_type": "code",
   "execution_count": 16,
   "id": "31664438-5690-454a-97de-1f3508b6ef82",
   "metadata": {},
   "outputs": [
    {
     "name": "stdout",
     "output_type": "stream",
     "text": [
      "The product of numbers from 1 to 25 is: 15511210043330985984000000\n"
     ]
    }
   ],
   "source": [
    "from functools import  reduce\n",
    "numbers = [i for i in range(1, 26)]\n",
    "product = reduce(lambda x, y: x * y, numbers)\n",
    "print(\"The product of numbers from 1 to 25 is:\", product)"
   ]
  },
  {
   "cell_type": "markdown",
   "id": "2a68627d-e250-47fe-b44f-5c1516e40b3e",
   "metadata": {},
   "source": [
    "Q5. Write a python program to filter the numbers in a given list that are divisible by 2 and 3 using the\n",
    "filter function.\n",
    "[2, 3, 6, 9, 27, 60, 90, 120, 55, 46]"
   ]
  },
  {
   "cell_type": "code",
   "execution_count": 3,
   "id": "024c0e6f-e37b-451b-86e6-1fa81dfcec7d",
   "metadata": {},
   "outputs": [
    {
     "name": "stdout",
     "output_type": "stream",
     "text": [
      "[2, 6, 60, 90, 120, 46]\n"
     ]
    }
   ],
   "source": [
    "numbers = [2, 3, 6, 9, 27, 60, 90, 120, 55, 46]\n",
    "\n",
    "numbers= filter(lambda x: x%2 == 0, numbers)\n",
    "\n",
    "print(list(numbers))"
   ]
  },
  {
   "cell_type": "code",
   "execution_count": 11,
   "id": "ad7bb96c-496f-4ef5-a183-cbf6c760624f",
   "metadata": {},
   "outputs": [
    {
     "name": "stdout",
     "output_type": "stream",
     "text": [
      "[3, 6, 9, 27, 60, 90, 120]\n"
     ]
    }
   ],
   "source": [
    "numbers = [2, 3, 6, 9, 27, 60, 90, 120, 55, 46]\n",
    "numbers= filter(lambda x: x%3== 0, numbers)\n",
    "\n",
    "print(list(numbers))"
   ]
  },
  {
   "cell_type": "code",
   "execution_count": 12,
   "id": "37861508-bd3b-433e-8496-723ae0d7f0c5",
   "metadata": {},
   "outputs": [
    {
     "name": "stdout",
     "output_type": "stream",
     "text": [
      "Numbers divisible by 3 are [3, 6, 9, 27, 60, 90, 120]\n"
     ]
    }
   ],
   "source": [
    "num_list = [2, 3, 6, 9, 27, 60, 90, 120, 55, 46]\n",
    "result = list(filter(lambda x: (x % 3 == 0), num_list))\n",
    "print(\"Numbers divisible by 3 are\",result)"
   ]
  },
  {
   "cell_type": "code",
   "execution_count": 13,
   "id": "33ff61d8-49eb-484c-89cb-c1e7e4e9cf6c",
   "metadata": {},
   "outputs": [
    {
     "name": "stdout",
     "output_type": "stream",
     "text": [
      "Numbers divisible by 3 are [2, 6, 60, 90, 120, 46]\n"
     ]
    }
   ],
   "source": [
    "num_list = [2, 3, 6, 9, 27, 60, 90, 120, 55, 46]\n",
    "result = list(filter(lambda x: (x % 2 == 0), num_list))\n",
    "print(\"Numbers divisible by 3 are\",result)"
   ]
  },
  {
   "cell_type": "markdown",
   "id": "41e0dfad-8293-4501-a2e6-9490e769a01e",
   "metadata": {},
   "source": [
    "Q6. Write a python program to find palindromes in the given list of strings using lambda and filter\n",
    "function.\n",
    "['python', 'php', 'aba', 'radar', 'level']"
   ]
  },
  {
   "cell_type": "code",
   "execution_count": 15,
   "id": "c3d1655c-5a6c-491c-824a-25aa6378d170",
   "metadata": {},
   "outputs": [
    {
     "name": "stdout",
     "output_type": "stream",
     "text": [
      "\n",
      "List of palindromes:\n",
      "['php', 'aba', 'radar', 'level']\n"
     ]
    }
   ],
   "source": [
    "l2 = ['python', 'php', 'aba', 'radar', 'level'] \n",
    "result = list(filter(lambda x: (x == \"\".join(reversed(x))), l2)) \n",
    "print(\"\\nList of palindromes:\")\n",
    "print(result)"
   ]
  },
  {
   "cell_type": "code",
   "execution_count": null,
   "id": "ef904d9a-6d6b-4a40-8fd3-e56e281acf83",
   "metadata": {},
   "outputs": [],
   "source": []
  }
 ],
 "metadata": {
  "kernelspec": {
   "display_name": "Python 3 (ipykernel)",
   "language": "python",
   "name": "python3"
  },
  "language_info": {
   "codemirror_mode": {
    "name": "ipython",
    "version": 3
   },
   "file_extension": ".py",
   "mimetype": "text/x-python",
   "name": "python",
   "nbconvert_exporter": "python",
   "pygments_lexer": "ipython3",
   "version": "3.10.8"
  }
 },
 "nbformat": 4,
 "nbformat_minor": 5
}
